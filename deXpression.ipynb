{
 "cells": [
  {
   "cell_type": "code",
   "execution_count": 1,
   "metadata": {
    "collapsed": true
   },
   "outputs": [],
   "source": [
    "from pylab import *\n",
    "%matplotlib inline"
   ]
  },
  {
   "cell_type": "code",
   "execution_count": 2,
   "metadata": {
    "collapsed": false
   },
   "outputs": [],
   "source": [
    "caffe_root = '/Users/mohamed/Code/lib/caffe/'\n",
    "import sys\n",
    "sys.path.insert(0, caffe_root + 'python')\n",
    "import caffe"
   ]
  },
  {
   "cell_type": "code",
   "execution_count": 3,
   "metadata": {
    "collapsed": false
   },
   "outputs": [],
   "source": [
    "# create our model deeexpression\n",
    "from caffe import layers as L, params as P\n",
    "\n",
    "def deXpression(lmdb, mean_file, batch_size, mirror=False):\n",
    "    n = caffe.NetSpec()\n",
    "    \n",
    "    n.data, n.label = L.Data(batch_size=batch_size, backend=P.Data.LMDB, source=lmdb,\n",
    "                            transform_param=dict(mirror=mirror, crop_size= 224, mean_file=mean_file), ntop=2)\n",
    "    \n",
    "    n.conv1 = L.Convolution(n.data, kernel_size=7, num_output=64, stride=2, pad=3, weight_filler=dict(type=\"msra\", variance_norm=0),\n",
    "                            bias_filler=dict(type=\"constant\"))\n",
    "    n.conv1_relu1 = L.ReLU(n.conv1, in_place=True)\n",
    "    n.pool1 = L.Pooling(n.conv1, kernel_size=3, stride=2, pad=0, pool=P.Pooling.MAX)\n",
    "    n.pool1_norm1 = L.LRN(n.pool1, local_size= 5, alpha= 0.0001, beta= 0.75)\n",
    "    n.conv2a = L.Convolution(n.pool1_norm1, kernel_size=1, num_output=96, stride=1, pad=0, weight_filler=dict(type=\"msra\", variance_norm=0),\n",
    "                            bias_filler=dict(type=\"constant\"))\n",
    "    n.conv2a_relu2a = L.ReLU(n.conv2a, in_place=True)\n",
    "    n.pool2a = L.Pooling(n.pool1_norm1, kernel_size=3, stride=1, pad=1, pool=P.Pooling.MAX)\n",
    "    n.conv2b = L.Convolution(n.conv2a, kernel_size=3, num_output=208, stride=1, pad=1, weight_filler=dict(type=\"msra\", variance_norm=0),\n",
    "                            bias_filler=dict(type=\"constant\"))\n",
    "    n.conv2b_relu2b = L.ReLU(n.conv2b, in_place=True)\n",
    "    n.conv2c = L.Convolution(n.pool2a, kernel_size=1, num_output=64, stride=1, pad=0, weight_filler=dict(type=\"msra\", variance_norm=0),\n",
    "                            bias_filler=dict(type=\"constant\"))\n",
    "    n.conv2c_relu2c = L.ReLU(n.conv2c, in_place=True)\n",
    "    n.concat2 = L.Concat(n.conv2b, n.conv2c)\n",
    "    n.pool2b = L.Pooling(n.concat2, kernel_size=3, stride=2, pad=0, pool=P.Pooling.MAX)\n",
    "    n.conv3a = L.Convolution(n.pool2b, kernel_size=1, num_output=96, stride=1, pad=0, weight_filler=dict(type=\"msra\", variance_norm=0),\n",
    "                            bias_filler=dict(type=\"constant\"))\n",
    "    n.conv3a_relu3a = L.ReLU(n.conv3a, in_place=True)\n",
    "    n.pool3a = L.Pooling(n.pool2b, kernel_size=3, stride=1, pad=1, pool=P.Pooling.MAX)\n",
    "    n.conv3b = L.Convolution(n.conv3a, kernel_size=3, num_output=208, stride=1, pad=1, weight_filler=dict(type=\"msra\", variance_norm=0),\n",
    "                            bias_filler=dict(type=\"constant\"))\n",
    "    n.conv3b_relu3b = L.ReLU(n.conv3b, in_place=True)\n",
    "    n.conv3c = L.Convolution(n.pool3a, kernel_size=1, num_output=64, stride=1, pad=0, weight_filler=dict(type=\"msra\", variance_norm=0),\n",
    "                            bias_filler=dict(type=\"constant\"))\n",
    "    n.conv3c_relu3c = L.ReLU(n.conv3c, in_place=True)\n",
    "    n.concat3 = L.Concat(n.conv3b, n.conv3c)\n",
    "    n.pool3b = L.Pooling(n.concat3, kernel_size=3, stride=2, pad=0, pool=P.Pooling.MAX)\n",
    "    n.score = L.InnerProduct(n.pool3b, num_output=11, weight_filler=dict(type='xavier'))\n",
    "    n.loss =  L.SoftmaxWithLoss(n.score, n.label)\n",
    "    \n",
    "    return n.to_proto()\n",
    "\n",
    "# train\n",
    "with open('deXpression_train.prototxt', 'wb') as f:\n",
    "    f.write(str(deXpression('/Users/mohamed/Code/lib/DIGITS/digits/jobs/20160320-202534-d7ae/train_db',\n",
    "                            '/Users/mohamed/Code/lib/DIGITS/digits/jobs/20160320-202534-d7ae/mean.binaryproto', 75, mirror=True)))\n",
    "# val test   \n",
    "with open('deXpression_val.prototxt', 'wb') as f:\n",
    "    f.write(str(deXpression('/Users/mohamed/Code/lib/DIGITS/digits/jobs/20160320-202534-d7ae/val_db',\n",
    "                            '/Users/mohamed/Code/lib/DIGITS/digits/jobs/20160320-202534-d7ae/mean.binaryproto', 75)))"
   ]
  },
  {
   "cell_type": "code",
   "execution_count": 3,
   "metadata": {
    "collapsed": false
   },
   "outputs": [
    {
     "name": "stdout",
     "output_type": "stream",
     "text": [
      "Iteration 0 testing...\n",
      "Iteration 60 testing...\n",
      "Iteration 120 testing...\n",
      "Iteration 180 testing...\n",
      "Iteration 240 testing...\n",
      "Iteration 300 testing...\n",
      "Iteration 360 testing...\n",
      "Iteration 420 testing...\n",
      "Iteration 480 testing...\n",
      "Iteration 540 testing...\n"
     ]
    },
    {
     "data": {
      "text/plain": [
       "<matplotlib.text.Text at 0x2026b4d9e10>"
      ]
     },
     "execution_count": 3,
     "metadata": {},
     "output_type": "execute_result"
    },
    {
     "data": {
      "image/png": "[encoded data removed]",
      "text/plain": [
       "<matplotlib.figure.Figure at 0x11c28aa90>"
      ]
     },
     "metadata": {},
     "output_type": "display_data"
    }
   ],
   "source": [
    "train_net_path = './deXpression_train.prototxt'\n",
    "test_net_path = './deXpression_val.prototxt'\n",
    "solver_config_path = './solver.prototxt'\n",
    "\n",
    "\n",
    "### define solver\n",
    "from caffe.proto import caffe_pb2\n",
    "s = caffe_pb2.SolverParameter()\n",
    "\n",
    "# Set a seed for reproducible experiments:\n",
    "# this controls for randomization in training.\n",
    "s.random_seed = 0xCAFFE\n",
    "\n",
    "# Specify locations of the train and (maybe) test networks.\n",
    "s.train_net = train_net_path\n",
    "s.test_net.append(test_net_path)\n",
    "s.test_interval = 10  # Test after every 500 training iterations.\n",
    "s.test_iter.append(15) # Test on 100 batches each time we test.\n",
    "\n",
    "s.max_iter = 600     # no. of times to update the net (training iterations)\n",
    " \n",
    "# EDIT HERE to try different solvers\n",
    "# solver types include \"SGD\", \"Adam\", and \"Nesterov\" among others.\n",
    "s.type = \"Adam\"\n",
    "\n",
    "# Set the initial learning rate for SGD.\n",
    "s.base_lr = 0.0001  # EDIT HERE to try different learning rates\n",
    "# Set momentum to accelerate learning by\n",
    "# taking weighted average of current and previous updates.\n",
    "s.momentum = 0.9\n",
    "s.momentum2= 0.999\n",
    "# Set weight decay to regularize and prevent overfitting\n",
    "s.weight_decay = 0.0001\n",
    "s.delta= 0.00000001\n",
    "    \n",
    "# Set `lr_policy` to define how the learning rate changes during training.\n",
    "# This is the same policy as our default LeNet.\n",
    "s.lr_policy = 'step'\n",
    "s.stepsize = 430\n",
    "s.gamma = 0.0001\n",
    "#s.power = 0.75\n",
    "# EDIT HERE to try the fixed rate (and compare with adaptive solvers)\n",
    "# `fixed` is the simplest policy that keeps the learning rate constant.\n",
    "# s.lr_policy = 'fixed'\n",
    "\n",
    "# Display the current training loss and accuracy every 1000 iterations.\n",
    "s.display = 10\n",
    "\n",
    "# Snapshots are files used to store networks we've trained.\n",
    "# We'll snapshot every 5K iterations -- twice during training.\n",
    "s.snapshot = 500\n",
    "s.snapshot_prefix = 'deXpression/custom_net'\n",
    "\n",
    "# Train on the GPU\n",
    "s.solver_mode = caffe_pb2.SolverParameter.CPU\n",
    "\n",
    "# Write the solver to a temporary file and return its filename.\n",
    "with open(solver_config_path, 'w') as f:\n",
    "    f.write(str(s))\n",
    "\n",
    "### load the solver and create train and test nets\n",
    "solver = None  # ignore this workaround for lmdb data (can't instantiate two solvers on the same data)\n",
    "solver = caffe.get_solver(solver_config_path)\n",
    "\n",
    "### solve\n",
    "niter = 600  # EDIT HERE increase to train for longer\n",
    "test_interval = niter / 10\n",
    "# losses will also be stored in the log\n",
    "train_loss = zeros(niter)\n",
    "test_acc = zeros(int(np.ceil(niter / test_interval)))\n",
    "\n",
    "# the main solver loop\n",
    "for it in range(niter):\n",
    "    solver.step(1)  # SGD by Caffe\n",
    "    \n",
    "    # store the train loss\n",
    "    train_loss[it] = solver.net.blobs['loss'].data\n",
    "    \n",
    "    # run a full test every so often\n",
    "    # (Caffe can also do this for us and write to a log, but we show here\n",
    "    #  how to do it directly in Python, where more complicated things are easier.)\n",
    "    if it % test_interval == 0:\n",
    "        print 'Iteration', it, 'testing...'\n",
    "        correct = 0\n",
    "        for test_it in range(100):\n",
    "            solver.test_nets[0].forward()\n",
    "            correct += sum(solver.test_nets[0].blobs['classifier'].data.argmax(1)\n",
    "                           == solver.test_nets[0].blobs['label'].data)\n",
    "        test_acc[it // test_interval] = correct / 1e4\n",
    "\n",
    "_, ax1 = subplots()\n",
    "ax2 = ax1.twinx()\n",
    "ax1.plot(arange(niter), train_loss)\n",
    "ax2.plot(test_interval * arange(len(test_acc)), test_acc, 'r')\n",
    "ax1.set_xlabel('iteration')\n",
    "ax1.set_ylabel('train loss')\n",
    "ax2.set_ylabel('test accuracy')\n",
    "ax2.set_title('Custom Test Accuracy: {:.2f}'.format(test_acc[-1]))"
   ]
  },
  {
   "cell_type": "code",
   "execution_count": null,
   "metadata": {
    "collapsed": true
   },
   "outputs": [],
   "source": []
  }
 ],
 "metadata": {
  "kernelspec": {
   "display_name": "Python 2",
   "language": "python",
   "name": "python2"
  },
  "language_info": {
   "codemirror_mode": {
    "name": "ipython",
    "version": 2
   },
   "file_extension": ".py",
   "mimetype": "text/x-python",
   "name": "python",
   "nbconvert_exporter": "python",
   "pygments_lexer": "ipython2",
   "version": "2.7.11"
  }
 },
 "nbformat": 4,
 "nbformat_minor": 0
}
